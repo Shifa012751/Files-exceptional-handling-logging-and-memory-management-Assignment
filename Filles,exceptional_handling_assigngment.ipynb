{
  "nbformat": 4,
  "nbformat_minor": 0,
  "metadata": {
    "colab": {
      "provenance": []
    },
    "kernelspec": {
      "name": "python3",
      "display_name": "Python 3"
    },
    "language_info": {
      "name": "python"
    }
  },
  "cells": [
    {
      "cell_type": "markdown",
      "source": [
        "#**Files, exceptional handling, logging and memory management Questions**"
      ],
      "metadata": {
        "id": "etXpG8eIMQ_p"
      }
    },
    {
      "cell_type": "markdown",
      "source": [
        " **Q.1 What is the difference between interpreted and compiled languages?**\n",
        "\n",
        " *Answer* - Interpreted language are execute line by line by an interpreter at runtime, whereas compiled language are coverted into machine code beforehand by compiler.\n",
        "\n",
        " Example of interpreted languages include python, javascript and Ruby, while example of compiled languages include C, C++, and Fortran."
      ],
      "metadata": {
        "id": "PPGnJ1N8O_sa"
      }
    },
    {
      "cell_type": "markdown",
      "source": [
        "**Q.2 What is exception handling in python**\n",
        "\n",
        "*Answer* - Exception handling in Python is a mechanism to handle runtime errors so that the normal flow of application can be maintained. It involves using try, except, else, and finally blocks to catch and handle exception."
      ],
      "metadata": {
        "id": "0JolhVUmRDoi"
      }
    },
    {
      "cell_type": "markdown",
      "source": [
        "**Q.3 What is purpose of finally block in exception handling?**\n",
        "\n",
        "*Answer* - The finally block is used to execute a set of statement regardless of whether exception occur or not.\n"
      ],
      "metadata": {
        "id": "W3IX16L3RrfS"
      }
    },
    {
      "cell_type": "markdown",
      "source": [
        "**Q.4 What is logging in python?**\n",
        "\n",
        "*Answer* - Logging in Python is a built-in module that allows you to record events happening during the execution of program. it provides a flexible framework for emmiting log messages from python programs."
      ],
      "metadata": {
        "id": "4PeGM3rySeu9"
      }
    },
    {
      "cell_type": "markdown",
      "source": [
        "**Q.5 What is significance of the *del method in python?**\n",
        "\n",
        "*Answer* - The del method is a special method in python classes that is automatically called when an object is about to destroyed. It is used to release system resources, close files, or perform cleanup operations.\n"
      ],
      "metadata": {
        "id": "uAW_lYLPS6BR"
      }
    },
    {
      "cell_type": "markdown",
      "source": [
        "**Q.6 What is the difference between import and from ... import in Python?**\n",
        "\n",
        "*Answer* - The import statement imports a module and makes it available for use, while the from ... import statement imports specific functions or variables from a module.\n"
      ],
      "metadata": {
        "id": "qwQkV_GcUyUf"
      }
    },
    {
      "cell_type": "markdown",
      "source": [
        "**Q.7 How can you handle multiple exceptions in Python?**\n",
        "\n",
        "*Answer* - You can handle multiple exceptions in Python by using multiple except blocks or by using a single except block with a tuple of exception types.\n"
      ],
      "metadata": {
        "id": "ChYyuGtdVBbs"
      }
    },
    {
      "cell_type": "markdown",
      "source": [
        "**Q.8 What is the purpose of the with statement when handling files in Python?**\n",
        "\n",
        "*Answer* - The with statement is used to open a file and automatically close it when you are done with it, regardless of whether an exception occurred or not.\n",
        "\n"
      ],
      "metadata": {
        "id": "5NXibJW5VTP0"
      }
    },
    {
      "cell_type": "markdown",
      "source": [
        "**Q.9 What is the difference between multithreading and multiprocessing?**\n",
        "\n",
        "*Answer* - Multithreading involves executing multiple threads within a single process, while multiprocessing involves executing multiple processes simultaneously.\n"
      ],
      "metadata": {
        "id": "KdqtM0z_V2MG"
      }
    },
    {
      "cell_type": "markdown",
      "source": [
        "**Q.10 What are the advantages of using logging in a program?**\n",
        "\n",
        "The advantages of using logging in a program include:\n",
        "\n",
        "*   Debugging: Logging helps identify and diagnose issues in the code.\n",
        "*   Auditing: Logging provides a record of events that can be used for auditing purposes.\n",
        "*   Performance monitoring: Logging can be used to monitor the performance of a program\n",
        "\n"
      ],
      "metadata": {
        "id": "DR8ayG5aWHN2"
      }
    },
    {
      "cell_type": "markdown",
      "source": [
        "**Q.11 What is memory management in Python?**\n",
        "\n",
        "*Answer* -Memory management in Python refers to the process of managing the memory used by Python objects. Python has automatic memory management through its garbage collector.\n",
        "\n"
      ],
      "metadata": {
        "id": "UsOmBm8hWn1F"
      }
    },
    {
      "cell_type": "markdown",
      "source": [
        "**Q.12 What are the basic steps involved in exception handling in Python?**\n",
        "\n",
        "The basic steps involved in exception handling in Python are:\n",
        "\n",
        "1. Try: Execute a block of code that may raise an exception.\n",
        "2. Except: Catch and handle the exception raised in the try block.\n",
        "3. Else: Execute a block of code if no exception occurred in the try block.\n",
        "4. Finally: Execute a block of code regardless of whether an exception occurred or not.\n"
      ],
      "metadata": {
        "id": "wh0-Tts9WxEg"
      }
    },
    {
      "cell_type": "markdown",
      "source": [
        "**Q.13 Why is memory management important in Python?**\n",
        "\n",
        "*Answer* - Memory management is important in Python because it helps prevent memory leaks, reduces the risk of crashes, and improves the overall performance of the program.\n"
      ],
      "metadata": {
        "id": "jQABwsqiW8P2"
      }
    },
    {
      "cell_type": "markdown",
      "source": [
        "**Q.14 What is the role of try and except in exception handling?**\n",
        "\n",
        "*Answer* - The try block is used to execute a block of code that may raise an exception, while the except block is used to catch and handle the exception raised in the try block.\n"
      ],
      "metadata": {
        "id": "NdSj3-j1XWIm"
      }
    },
    {
      "cell_type": "markdown",
      "source": [
        "**Q.15 How does Python's garbage collection system work?**\n",
        "\n",
        "*Answer* - Python's garbage collection system works by periodically identifying and freeing memory occupied by objects that are no longer needed or referenced.\n",
        "\n"
      ],
      "metadata": {
        "id": "AF6wn_JKXoLL"
      }
    },
    {
      "cell_type": "markdown",
      "source": [
        "**Q.16 What is the purpose of the else block in exception handling?**\n",
        "\n",
        "*Answer* - The else block is used to execute a block of code if no exception occurred in the try block.\n",
        "\n",
        "\n"
      ],
      "metadata": {
        "id": "sDEARogAX4W-"
      }
    },
    {
      "cell_type": "markdown",
      "source": [
        "**Q.17 What are the common logging levels in Python?**\n",
        "\n",
        "The common logging levels in Python are:\n",
        "\n",
        "*    DEBUG: Detailed information for debugging purposes.\n",
        "*    INFO: Informational messages.\n",
        "*    WARNING: Potential problems or unexpected events.\n",
        "*    ERROR: Errors that prevent normal program execution.\n",
        "*    CRITICAL: Critical errors that require immediate attention.\n"
      ],
      "metadata": {
        "id": "TZiSuW_hYM0S"
      }
    },
    {
      "cell_type": "markdown",
      "source": [
        "**Q.18 What is the difference between os.fork() and multiprocessing in Python?**\n",
        "\n",
        "*Answer* - os.fork() creates a new process by duplicating the current process, while multiprocessing creates a new process using a different approach that is more suitable for parallel processing.\n",
        "\n"
      ],
      "metadata": {
        "id": "nkhASWc0YrV2"
      }
    },
    {
      "cell_type": "markdown",
      "source": [
        "**Q.19 What is the importance of closing a file in Python?**\n",
        "\n",
        "*Answer* - Closing a file in Python is important to release system resources, prevent data corruption, and ensure that the file is properly updated.\n"
      ],
      "metadata": {
        "id": "Is0twZgZZDQa"
      }
    },
    {
      "cell_type": "markdown",
      "source": [
        "**Q.20 What is the difference between file.read() and file.readline() in Python?**\n",
        "\n",
        "*Answer* - file.read() reads the entire contents of a file, while file.readline() reads a single line from a file.\n",
        "\n"
      ],
      "metadata": {
        "id": "_eNLC4DJZSUv"
      }
    },
    {
      "cell_type": "markdown",
      "source": [
        "**Q.21 What is the logging module in Python used for?**\n",
        "\n",
        "*Answer* - The logging module in Python is used for recording events happening during the execution of a program.\n"
      ],
      "metadata": {
        "id": "hYcARDfyZqeS"
      }
    },
    {
      "cell_type": "markdown",
      "source": [
        "**Q.22  What is the os module in Python used for in file handling?**\n",
        "\n",
        "*Answer* The os module in Python is used for interacting with the operating system and file system.\n"
      ],
      "metadata": {
        "id": "Q2X4KqnkYiO9"
      }
    },
    {
      "cell_type": "markdown",
      "source": [
        "**Q.23  What are the challenges associated with memory management in Python?**\n",
        "\n",
        "*Answer* - The challenges associated with memory management in Python include memory leaks, reference cycles, and fragmentation.\n"
      ],
      "metadata": {
        "id": "m65HZ9O_bght"
      }
    },
    {
      "cell_type": "markdown",
      "source": [
        "**Q.24   How do you raise an exception manually in Python?**\n",
        "\n",
        "*Answer* - To raise an exception manually in Python, you can use the raise keyword followed by the exception type and an optional error message.\n"
      ],
      "metadata": {
        "id": "bmbt_0VEcNoI"
      }
    },
    {
      "cell_type": "markdown",
      "source": [
        "**Q.25  Why is it important to use multithreading in certain applications?**\n",
        "\n",
        "*Answer* - It is important to use multithreading in certain applications because it allows multiple threads to execute concurrently, improving the responsiveness and performance of the application."
      ],
      "metadata": {
        "id": "vm2kkCRXdNA9"
      }
    },
    {
      "cell_type": "markdown",
      "source": [
        "# **Practical Questions**"
      ],
      "metadata": {
        "id": "Xz0WRmFRdy7F"
      }
    },
    {
      "cell_type": "markdown",
      "source": [
        "**Q.1 How can you open a file for writing in Python and write a string to it?**\n",
        "\n",
        "*Answer* -\n",
        "\n",
        "*   Step 1: Open the file in write mode\n",
        "To open a file for writing in Python, you can use the open() function with the mode parameter set to 'w'.\n",
        "\n",
        "*   Step 2: Write a string to the file\n",
        "You can use the write() method to write a string to the file.\n",
        "\n",
        "*   Step 3: Close the file\n",
        "It's good practice to close the file after you're done with it using the close() method.\n",
        "\n",
        "The final answer is:\n",
        "\n",
        "file = open(\"example.txt\", \"w\")\n",
        "\n",
        "file.write(\"Hello, World!\")\n",
        "\n",
        "file.close()\n"
      ],
      "metadata": {
        "id": "IieiaTRQegxq"
      }
    },
    {
      "cell_type": "markdown",
      "source": [
        "**Q.2  Write a Python program to read the contents of a file and print each line?**\n",
        "\n",
        "*Answer* -\n",
        "\n",
        "*  Step 1: Open the file in read mode\n",
        "To read the contents of a file, you can use the open() function with the mode parameter set to 'r'.\n",
        "\n",
        "*  Step 2: Read all lines from the file\n",
        "You can use the readlines() method to read all lines from the file.\n",
        "\n",
        "*  Step 3: Print each line\n",
        "You can use a for loop to print each line.\n",
        "\n",
        "The final answer is:\n",
        "\n",
        "file = open(\"example.txt\", \"r\")\n",
        "\n",
        "lines = file.readlines()\n",
        "\n",
        "for line in lines:\n",
        "\n",
        "    print(line.strip())\n",
        "\n",
        "file.close()\n"
      ],
      "metadata": {
        "id": "2ge28G3fgwEx"
      }
    },
    {
      "cell_type": "markdown",
      "source": [
        "**Q.3 How would you handle a case where the file doesn't exist while trying to open it for reading**\n",
        "\n",
        "*Answer*\n",
        "\n",
        "*   Step 1: Use a try-except block\n",
        "You can use a try-except block to catch the FileNotFoundError exception that is raised when the file does not exist.\n",
        "\n",
        "*   Step 2: Handle the exception\n",
        "In the except block, you can handle the exception by printing an error message or taking alternative action.\n",
        "\n",
        "The final answer is:\n",
        "\n",
        "try:\n",
        "\n",
        "    file = open(\"example.txt\", \"r\")\n",
        "\n",
        "except FileNotFoundError:\n",
        "\n",
        "    print(\"The file does not exist.\")\n"
      ],
      "metadata": {
        "id": "k482hO06iRS_"
      }
    },
    {
      "cell_type": "markdown",
      "source": [
        "**Q.4 Write a Python script that reads from one file and writes its content to another file?**\n",
        "\n",
        "*Answer*\n",
        "\n",
        "*  Step 1: Open the input file in read mode\n",
        "To read from one file, you can use the open() function with the mode parameter set to 'r'.\n",
        "\n",
        "*  Step 2: Open the output file in write mode\n",
        "To write to another file, you can use the open() function with the mode parameter set to 'w'.\n",
        "\n",
        "*  Step 3: Read from the input file and write to the output file\n",
        "You can use the read() method to read from the input file and the write() method to write to the output file.\n",
        "\n",
        "The final answer is:\n",
        "\n",
        "input_file = open(\"input.txt\", \"r\")\n",
        "\n",
        "output_file = open(\"output.txt\", \"w\")\n",
        "\n",
        "output_file.write(input_file.read())\n",
        "\n",
        "input_file.close()\n",
        "\n",
        "output_file.close()\n"
      ],
      "metadata": {
        "id": "TOOOCRWU9sd9"
      }
    },
    {
      "cell_type": "markdown",
      "source": [
        "**Q.5 How would you catch and handle division by zero error in Python?**\n",
        "\n",
        "*Answer* -\n",
        "\n",
        "*  Step 1: Use a try-except block\n",
        "You can use a try-except block to catch the ZeroDivisionError exception that is raised when you try to divide by zero.\n",
        "\n",
        "*  Step 2: Handle the exception\n",
        "In the except block, you can handle the exception by printing an error message or taking alternative action.\n",
        "\n",
        "The final answer is:\n",
        "\n",
        "try:\n",
        "\n",
        "    result = 10 / 0\n",
        "\n",
        "except ZeroDivisionError:\n",
        "\n",
        "    print(\"Cannot divide by zero.\")\n"
      ],
      "metadata": {
        "id": "qvqO8wvG_KBN"
      }
    },
    {
      "cell_type": "markdown",
      "source": [
        " **Q.6 Write a Python program that logs an error message to a log file when a division by zero exception occurs.**\n",
        "\n",
        " *Answer* - Here's a Python program that logs an error message to a log file when a division by zero exception occurs."
      ],
      "metadata": {
        "id": "7lNuisEvBDAC"
      }
    },
    {
      "cell_type": "code",
      "source": [
        "import logging\n",
        "\n",
        "# Configure logging\n",
        "logging.basicConfig(filename='error.log', level=logging.ERROR,\n",
        "                    format='%(asctime)s - %(levelname)s - %(message)s')\n",
        "\n",
        "def divide_numbers(num1, num2):\n",
        "    try:\n",
        "        result = num1 / num2\n",
        "        return result\n",
        "    except ZeroDivisionError as e:\n",
        "        logging.error(\"Division by zero error: %s\", e)\n",
        "        return None\n",
        "\n",
        "if __name__ == \"__main__\":\n",
        "    # Example usage\n",
        "    print(divide_numbers(10, 2))  # This will print 5.0\n",
        "    print(divide_numbers(10, 0))  # This will log an error\n"
      ],
      "metadata": {
        "colab": {
          "base_uri": "https://localhost:8080/"
        },
        "id": "q0Qnk2QGQ0Z_",
        "outputId": "b7a119d6-ee5f-4296-bca2-27c6fab8931a"
      },
      "execution_count": null,
      "outputs": [
        {
          "output_type": "stream",
          "name": "stderr",
          "text": [
            "ERROR:root:Division by zero error: division by zero\n"
          ]
        },
        {
          "output_type": "stream",
          "name": "stdout",
          "text": [
            "5.0\n",
            "None\n"
          ]
        }
      ]
    },
    {
      "cell_type": "markdown",
      "source": [
        "***Explanation:***\n",
        "\n",
        "*  Logging Configuration: The logging.basicConfig function sets up the logging configuration. It specifies the log file name (error.log), the logging level (ERROR), and the format of the log messages.\n",
        "\n",
        "*  Function Definition: The divide_numbers function attempts to divide two numbers. If a ZeroDivisionError occurs, it logs the error message to the specified log file.\n",
        "*  Example Usage: The program demonstrates how to use the divide_numbers function, showing both a successful division and a division by zero that triggers the logging of an error."
      ],
      "metadata": {
        "id": "et8AjIUFRU42"
      }
    },
    {
      "cell_type": "markdown",
      "source": [
        "**Q.7 How do you log information at different levels (INFO, ERROR, WARNING) in Python using the logging module?**\n",
        "\n",
        "*Answer* - In Python, you can use the logging module to log information at different levels such as INFO, ERROR, and WARNING.\n",
        "\n",
        "Here’s a basic example of how to set up logging and log messages at these levels:"
      ],
      "metadata": {
        "id": "ILE85id5RvdR"
      }
    },
    {
      "cell_type": "code",
      "source": [
        "import logging\n",
        "\n",
        "# Configure the logging\n",
        "logging.basicConfig(level=logging.DEBUG,  # Set the logging level\n",
        "\n",
        "                    format='%(asctime)s - %(levelname)s - %(message)s')  # Set the format\n",
        "\n",
        "# Log messages at different levels\n",
        "logging.debug('This is a debug message')  # Debug level\n",
        "logging.info('This is an info message')    # Info level\n",
        "logging.warning('This is a warning message')  # Warning level\n",
        "logging.error('This is an error message')  # Error level\n",
        "logging.critical('This is a critical message')  # Critical level\n"
      ],
      "metadata": {
        "colab": {
          "base_uri": "https://localhost:8080/"
        },
        "id": "wqRLz_yheHyR",
        "outputId": "d86b2a88-404f-46e5-9a09-51328948d98b"
      },
      "execution_count": null,
      "outputs": [
        {
          "output_type": "stream",
          "name": "stderr",
          "text": [
            "WARNING:root:This is a warning message\n",
            "ERROR:root:This is an error message\n",
            "CRITICAL:root:This is a critical message\n"
          ]
        }
      ]
    },
    {
      "cell_type": "markdown",
      "source": [
        "***Explanation:***\n",
        "\n",
        "*  Import the logging module: You need to import the logging module to use its functionalities.\n",
        "\n",
        "*  Configure logging: Use logging.basicConfig() to configure the logging system. You can set the logging level (e.g., DEBUG, INFO, WARNING, ERROR, CRITICAL) and the format of the log messages.\n",
        "\n",
        "*  Log messages: Use the appropriate logging functions (debug(), info(), warning(), error(), critical()) to log messages at different severity levels.\n",
        "\n",
        "***Logging Levels:***\n",
        "\n",
        "*  DEBUG: Detailed information, typically of interest only when diagnosing problems.\n",
        "\n",
        "*  INFO: Confirmation that things are working as expected.\n",
        "*  WARNING: An indication that something unexpected happened, or indicative of some problem in the near future (e.g., ‘disk space low’).\n",
        "ERROR: Due to a more serious problem, the software has not been able to perform some function.\n",
        "*  CRITICAL: A very serious error, indicating that the program itself may be unable to continue running.\n",
        "\n",
        "*You can adjust the logging level in basicConfig() to control which messages are displayed. For example, setting it to WARNING will only show warnings, errors, and critical messages.*"
      ],
      "metadata": {
        "id": "ZcNGIXZterdW"
      }
    },
    {
      "cell_type": "markdown",
      "source": [
        "**Q.8 - Write a program to handle a file opening error using exception handling?**\n",
        "\n",
        "*Answer* - Here is an example of a Python program that demonstrates how to handle a file opening error using exception handling. The program attempts to open a file and read its contents. If the file does not exist or cannot be opened, it catches the exception and prints an error message.\n"
      ],
      "metadata": {
        "id": "R9UPOzSTgs7S"
      }
    },
    {
      "cell_type": "code",
      "source": [
        "def read_file(file_path):\n",
        "    try:\n",
        "        with open(file_path, 'r') as file:\n",
        "            content = file.read()\n",
        "            print(\"File content:\")\n",
        "            print(content)\n",
        "    except FileNotFoundError:\n",
        "        print(f\"Error: The file '{file_path}' was not found.\")\n",
        "    except IOError:\n",
        "        print(f\"Error: An I/O error occurred while trying to open the file '{file_path}'.\")\n",
        "    except Exception as e:\n",
        "        print(f\"An unexpected error occurred: {e}\")\n",
        "\n",
        "# Example usage\n",
        "\n",
        "file_path = 'example.txt'  # Change this to the path of the file you want to read\n",
        "read_file(file_path)\n"
      ],
      "metadata": {
        "id": "bHmNotF7h-LX"
      },
      "execution_count": null,
      "outputs": []
    },
    {
      "cell_type": "markdown",
      "source": [
        "***Explanation:***\n",
        "\n",
        "*  The try block contains the code that may raise an exception (in this case, opening and reading a file).\n",
        "\n",
        "*  The except FileNotFoundError block handles the specific case where the file does not exist.\n",
        "\n",
        "*  The except IOError block handles input/output errors that may occur while trying to open the file.\n",
        "\n",
        "*  The except Exception as e block is a catch-all for any other exceptions that may occur, allowing you to handle unexpected errors gracefully.\n",
        "\n",
        "*  The with statement is used to open the file, which ensures that the file is properly closed after its suite finishes, even if an error is raised.\n"
      ],
      "metadata": {
        "id": "GrcMVkSmiSxI"
      }
    },
    {
      "cell_type": "markdown",
      "source": [
        "**Q.9 How can you read a file line by line and store its content in a list in Python?**\n",
        "\n",
        "*Answer* -\n",
        "\n",
        "You can read a file line by line and store its content in a list in Python using the following approach:\n",
        "\n",
        "1.  Open the file using the open() function.\n",
        "2.  Use a loop to iterate through each line in the file.\n",
        "3.  Append each line to a list.\n",
        "4.  Close the file after reading.\n",
        "\n"
      ],
      "metadata": {
        "id": "pcoZuVT6i1Eu"
      }
    },
    {
      "cell_type": "code",
      "source": [
        "# Initialize an empty list to store the lines\n",
        "lines = []\n",
        "\n",
        "# Open the file in read mode\n",
        "with open('example.txt', 'r') as file:\n",
        "    # Iterate through each line in the file\n",
        "    for line in file:\n",
        "\n",
        "        lines.append(line.strip())\n",
        "\n",
        "# Now 'lines' contains all the lines from the file\n",
        "print(lines)\n"
      ],
      "metadata": {
        "id": "RP6TCjvQlded"
      },
      "execution_count": null,
      "outputs": []
    },
    {
      "cell_type": "markdown",
      "source": [
        "In this example, replace 'filename.txt' with the path to your file. The strip() method is used to remove any extra whitespace, including newline characters, from the beginning and end of each line. The with statement ensures that the file is properly closed after its suite finishes, even if an error is raised."
      ],
      "metadata": {
        "id": "tK72i_A1nG16"
      }
    },
    {
      "cell_type": "markdown",
      "source": [
        "**Q.10 How can you append data to an existing file in Python?**\n",
        "\n",
        "*Answer* - To append data to an existing file in Python, you can use the built-in open() function with the 'a' (append) mode.\n",
        "\n",
        "Here's how to do it:\n",
        "\n",
        "**Basic Method**"
      ],
      "metadata": {
        "id": "y5_TjsMyj6nP"
      }
    },
    {
      "cell_type": "code",
      "source": [
        "with open('filename.txt', 'a') as file:\n",
        "    file.write('This text will be appended.\\n')\n",
        "    file.write('Another line of text.\\n')"
      ],
      "metadata": {
        "id": "VFd0FKkQaIgj"
      },
      "execution_count": null,
      "outputs": []
    },
    {
      "cell_type": "markdown",
      "source": [
        "**Key Points:**\n",
        "\n",
        "*  Mode 'a': Opens the file for appending. Creates the file if it doesn't exist.\n",
        "\n",
        "*  Mode 'a+': Opens for both appending and reading.\n",
        "\n",
        "*  New Lines: Remember to add \\n if you want each write to be on a new line."
      ],
      "metadata": {
        "id": "G2LJDXonaObI"
      }
    },
    {
      "cell_type": "markdown",
      "source": [
        "**Alternative Methods**\n",
        "\n",
        "Using open() without context manager:"
      ],
      "metadata": {
        "id": "3CBsODUtavad"
      }
    },
    {
      "cell_type": "code",
      "source": [
        "file = open('filename.txt', 'a')\n",
        "file.write('Some text\\n')\n",
        "file.close()  # Don't forget to close!"
      ],
      "metadata": {
        "id": "wdivmTkHatoi"
      },
      "execution_count": null,
      "outputs": []
    },
    {
      "cell_type": "markdown",
      "source": [
        "**Appending multiple lines at once:**"
      ],
      "metadata": {
        "id": "V8inIfWZbhlo"
      }
    },
    {
      "cell_type": "code",
      "source": [
        "lines_to_add = ['First new line\\n', 'Second new line\\n']\n",
        "with open('filename.txt', 'a') as file:\n",
        "    file.writelines(lines_to_add)"
      ],
      "metadata": {
        "id": "CFLscvcqbkEo"
      },
      "execution_count": null,
      "outputs": []
    },
    {
      "cell_type": "markdown",
      "source": [
        "The with statement (context manager) is generally preferred as it automatically handles file closing, even if an error occurs."
      ],
      "metadata": {
        "id": "eHV46d8Ab5dM"
      }
    },
    {
      "cell_type": "markdown",
      "source": [
        "**Q.11 Write a Python program that uses a try-except block to handle an error when attempting to access a\n",
        "dictionary key that doesn't exist**\n",
        "\n",
        "*Answer* -\n",
        "\n",
        "**Handling Dictionary Key Errors in Python**\n",
        "\n",
        "Here's a Python program that demonstrates how to use a try-except block to handle a KeyError when attempting to access a non-existent dictionary key:"
      ],
      "metadata": {
        "id": "J3oD5q7ob9DE"
      }
    },
    {
      "cell_type": "code",
      "source": [
        "def access_dictionary_value(dictionary, key):\n",
        "    \"\"\"\n",
        "    Safely access a dictionary value with error handling.\n",
        "\n",
        "    Args:\n",
        "        dictionary (dict): The dictionary to access\n",
        "        key: The key to look up in the dictionary\n",
        "\n",
        "    Returns:\n",
        "        The value if key exists, or an error message if key doesn't exist\n",
        "    \"\"\"\n",
        "    try:\n",
        "        value = dictionary[key]\n",
        "        print(f\"Key '{key}' found. Value: {value}\")\n",
        "        return value\n",
        "    except KeyError:\n",
        "        print(f\"Error: Key '{key}' does not exist in the dictionary\")\n",
        "        return None\n",
        "\n",
        "# Example usage\n",
        "if __name__ == \"__main__\":\n",
        "    # Create a sample dictionary\n",
        "    student_grades = {\n",
        "        \"Alice\": 92,\n",
        "        \"Bob\": 85,\n",
        "        \"Charlie\": 78\n",
        "    }\n",
        "\n",
        "    # Test with existing and non-existing keys\n",
        "    access_dictionary_value(student_grades, \"Alice\")  # Existing key\n",
        "    access_dictionary_value(student_grades, \"David\")  # Non-existing key"
      ],
      "metadata": {
        "id": "OHPy0VePdr1U"
      },
      "execution_count": null,
      "outputs": []
    },
    {
      "cell_type": "markdown",
      "source": [
        "**Alternative Approaches:**\n",
        "\n",
        "1.  Using the get() method (simpler for many cases):"
      ],
      "metadata": {
        "id": "pMfGc37GdtVX"
      }
    },
    {
      "cell_type": "code",
      "source": [
        "value = dictionary.get(key)  # Returns None if key doesn't exist\n",
        "value = dictionary.get(key, default_value)  # Returns default_value if key doesn't exist"
      ],
      "metadata": {
        "id": "mhotKBuDd8_F"
      },
      "execution_count": null,
      "outputs": []
    },
    {
      "cell_type": "markdown",
      "source": [
        "2.  Using in operator to check first:"
      ],
      "metadata": {
        "id": "FmxfR2nSeA-Y"
      }
    },
    {
      "cell_type": "code",
      "source": [
        "if key in dictionary:\n",
        "    value = dictionary[key]\n",
        "else:\n",
        "    # Handle missing key"
      ],
      "metadata": {
        "id": "UCb07VbzeWQW"
      },
      "execution_count": null,
      "outputs": []
    },
    {
      "cell_type": "markdown",
      "source": [
        "The try-except approach is particularly useful when:\n",
        "\n",
        "*  You expect the key to exist most of the time\n",
        "\n",
        "*  You want to handle multiple potential errors\n",
        "\n",
        "*  You need to perform additional operations that might raise other exceptions"
      ],
      "metadata": {
        "id": "6Nbtl-CPecNN"
      }
    },
    {
      "cell_type": "markdown",
      "source": [
        " **Q.12 Write a program that demonstrates using multiple except blocks to handle different types of exceptions?**\n",
        "\n",
        " *Answer* - **Handling Multiple Exceptions in Python**\n",
        "\n",
        " Here's a program that demonstrates using multiple except blocks to handle different types of exceptions:"
      ],
      "metadata": {
        "id": "h3yTZEhne1Cl"
      }
    },
    {
      "cell_type": "code",
      "source": [
        "def handle_operations(data):\n",
        "\n",
        "    #Demonstrates handling multiple types of exceptions with separate except blocks\n",
        "\n",
        "    try:\n",
        "        # Example operations that might raise different exceptions\n",
        "        print(\"\\nAttempting operations...\")\n",
        "\n",
        "        # 1. Access dictionary key (might raise KeyError)\n",
        "        value = data['nonexistent_key']\n",
        "\n",
        "        # 2. Convert to integer (might raise ValueError)\n",
        "        number = int(\"not_a_number\")\n",
        "\n",
        "        # 3. Division (might raise ZeroDivisionError)\n",
        "        result = 10 / 0\n",
        "\n",
        "        # 4. Access undefined variable (might raise NameError)\n",
        "        print(undefined_variable)\n",
        "\n",
        "    except KeyError:\n",
        "        print(\"Handled KeyError: The specified key doesn't exist in the dictionary\")\n",
        "\n",
        "    except ValueError:\n",
        "        print(\"Handled ValueError: Couldn't convert to integer\")\n",
        "\n",
        "    except ZeroDivisionError:\n",
        "        print(\"Handled ZeroDivisionError: Cannot divide by zero\")\n",
        "\n",
        "    except NameError:\n",
        "        print(\"Handled NameError: Variable is not defined\")\n",
        "\n",
        "    except Exception as e:\n",
        "        print(f\"Handled unexpected exception: {type(e).__name__} - {str(e)}\")\n",
        "\n",
        "    else:\n",
        "        print(\"All operations completed successfully!\")\n",
        "\n",
        "    finally:\n",
        "        print(\"This cleanup code always runs, regardless of exceptions\\n\")\n",
        "\n",
        "# Example usage\n",
        "if __name__ == \"__main__\":\n",
        "    sample_data = {'valid_key': 'some value'}\n",
        "\n",
        "    # Test different scenarios by uncommenting one at a time\n",
        "    print(\"=== Testing KeyError ===\")\n",
        "    handle_operations(sample_data)\n",
        "\n",
        "    # print(\"\\n=== Testing ValueError ===\")\n",
        "    # handle_operations({'valid_key': '123'})  # Will fail on int conversion\n",
        "\n",
        "    # print(\"\\n=== Testing ZeroDivisionError ===\")\n",
        "    # handle_operations({'valid_key': 0})  # Will fail on division\n",
        "\n",
        "    # print(\"\\n=== Testing NameError ===\")\n",
        "    # Uncomment the undefined_variable line in the try block first"
      ],
      "metadata": {
        "id": "NBXz0Sl1f1OK"
      },
      "execution_count": null,
      "outputs": []
    },
    {
      "cell_type": "markdown",
      "source": [
        "**Key Features:**\n",
        "\n",
        "1.  Multiple except blocks: Each handles a specific exception type\n",
        "\n",
        "2.  Order matters: More specific exceptions should come first\n",
        "\n",
        "3.  Generic Exception: Catches any unexpected exceptions\n",
        "\n",
        "4.  else clause: Runs only if no exceptions occurred\n",
        "\n",
        "5.  finally clause: Always executes for cleanup\n",
        "\n",
        "*You can uncomment the different test cases to see each exception being handled by its specific except block. The program demonstrates how to properly structure exception handling for different error conditions.*\n",
        "\n"
      ],
      "metadata": {
        "id": "Q9RbHG3ugFPX"
      }
    },
    {
      "cell_type": "markdown",
      "source": [
        "**Q.13 How would you check if a file exists before attempting to read it in Python**\n",
        "\n",
        "*Answer* - Checking if a File Exists Before Reading in Python\n",
        "\n",
        "There are several ways to check if a file exists before attempting to read it. Here are the most common and recommended approaches:\n",
        "\n",
        "\n",
        " 1.  **Using os.path.exists()**"
      ],
      "metadata": {
        "id": "fxwAuhgDgeIh"
      }
    },
    {
      "cell_type": "code",
      "source": [
        "import os\n",
        "\n",
        "file_path = 'example.txt'\n",
        "\n",
        "if os.path.exists(file_path):\n",
        "    with open(file_path, 'r') as file:\n",
        "        content = file.read()\n",
        "    print(\"File read successfully\")\n",
        "else:\n",
        "    print(f\"Error: File '{file_path}' does not exist\")"
      ],
      "metadata": {
        "id": "NdpeWrAmheCY"
      },
      "execution_count": null,
      "outputs": []
    },
    {
      "cell_type": "markdown",
      "source": [
        "2.  **Using pathlib.Path (Python 3.4+ recommended)**"
      ],
      "metadata": {
        "id": "mlOZkd3rhkBb"
      }
    },
    {
      "cell_type": "code",
      "source": [
        "from pathlib import Path\n",
        "\n",
        "file_path = Path('example.txt')\n",
        "\n",
        "if file_path.is_file():  # Checks if it's a file (not directory) and exists\n",
        "    with open(file_path, 'r') as file:\n",
        "        content = file.read()\n",
        "    print(\"File read successfully\")\n",
        "else:\n",
        "    print(f\"Error: File '{file_path}' does not exist or is not a file\")"
      ],
      "metadata": {
        "id": "6kralfFphsk2"
      },
      "execution_count": null,
      "outputs": []
    },
    {
      "cell_type": "markdown",
      "source": [
        "3.  **Using try-except block (EAFP - Easier to Ask for Forgiveness than Permission)**"
      ],
      "metadata": {
        "id": "lKvbqOYThz8D"
      }
    },
    {
      "cell_type": "code",
      "source": [
        "file_path = 'example.txt'\n",
        "\n",
        "try:\n",
        "    with open(file_path, 'r') as file:\n",
        "        content = file.read()\n",
        "    print(\"File read successfully\")\n",
        "except FileNotFoundError:\n",
        "    print(f\"Error: File '{file_path}' does not exist\")\n",
        "except IOError as e:\n",
        "    print(f\"Error reading file: {e}\")"
      ],
      "metadata": {
        "id": "GrdjkMNih6Xf"
      },
      "execution_count": null,
      "outputs": []
    },
    {
      "cell_type": "markdown",
      "source": [
        "**Best Practices:**\n",
        "\n",
        "1.  For modern Python (3.4+), use pathlib - it's more object-oriented and expressive\n",
        "\n",
        "2.  For robust applications, combine existence check with try-except - race conditions can occur between checking and opening\n",
        "\n",
        "3.  Check permissions too if needed using os.access(file_path, os.R_OK)\n",
        "\n",
        "Consider what type of path you're checking:\n",
        "\n",
        "*  exists() - Any path that exists\n",
        "\n",
        "*  isfile() - Only files"
      ],
      "metadata": {
        "id": "fsohm1griB08"
      }
    },
    {
      "cell_type": "markdown",
      "source": [
        "**Q.14  Write a program that uses the logging module to log both informational and error messages?**\n",
        "\n",
        "*Answer* - **Python Logging Example with Info and Error Messages**\n",
        "\n",
        "Here's a complete program demonstrating how to use Python's logging module to log both informational and error messages:"
      ],
      "metadata": {
        "id": "yt6s287siRDL"
      }
    },
    {
      "cell_type": "code",
      "source": [
        "import logging\n",
        "import os\n",
        "\n",
        "def configure_logging():\n",
        "    \"\"\"Set up logging configuration with both file and console output\"\"\"\n",
        "\n",
        "    # Create logs directory if it doesn't exist\n",
        "    os.makedirs('logs', exist_ok=True)\n",
        "\n",
        "    # Basic configuration\n",
        "    logging.basicConfig(\n",
        "        level=logging.INFO,\n",
        "        format='%(asctime)s - %(name)s - %(levelname)s - %(message)s',\n",
        "        handlers=[\n",
        "            logging.FileHandler('logs/application.log'),\n",
        "            logging.StreamHandler()\n",
        "        ]\n",
        "    )\n",
        "\n",
        "def perform_calculation(x, y):\n",
        "    \"\"\"Demonstrate logging in a calculation function\"\"\"\n",
        "    logger = logging.getLogger('calculation')\n",
        "\n",
        "    logger.info(f\"Starting calculation with x={x}, y={y}\")\n",
        "\n",
        "    try:\n",
        "        result = x / y\n",
        "        logger.info(f\"Calculation successful. Result: {result}\")\n",
        "        return result\n",
        "    except ZeroDivisionError:\n",
        "        logger.error(\"Division by zero attempted!\", exc_info=True)\n",
        "        return None\n",
        "    except Exception as e:\n",
        "        logger.critical(f\"Unexpected error in calculation: {str(e)}\", exc_info=True)\n",
        "        return None\n",
        "\n",
        "def main():\n",
        "    configure_logging()\n",
        "    logger = logging.getLogger('main')\n",
        "\n",
        "    logger.info(\"Application started\")\n",
        "\n",
        "    # Example calculations\n",
        "    perform_calculation(10, 2)  # Successful\n",
        "    perform_calculation(8, 0)   # Error case\n",
        "\n",
        "    logger.info(\"Application finished\")\n",
        "\n",
        "if __name__ == \"__main__\":\n",
        "    main()"
      ],
      "metadata": {
        "id": "HTS5YTDFjLTS"
      },
      "execution_count": null,
      "outputs": []
    },
    {
      "cell_type": "markdown",
      "source": [
        "**Key Features:**\n",
        "\n",
        "**Logging Levels:**\n",
        "\n",
        "*  logger.info() for informational messages\n",
        "\n",
        "*  logger.error() for error conditions\n",
        "\n",
        "*  logger.critical() for severe errors\n",
        "\n",
        "**Output Channels:**\n",
        "\n",
        "*  Logs to both console and file (application.log in logs directory)\n",
        "\n",
        "**Log Format:**\n",
        "\n",
        "*  Includes timestamp, logger name, log level, and message\n",
        "\n",
        "*  Error logs include stack trace (exc_info=True)\n",
        "\n",
        "**Directory Creation:**\n",
        "\n",
        "*  Automatically creates 'logs' directory if it doesn't exist"
      ],
      "metadata": {
        "id": "ghlsrjhMji2Q"
      }
    },
    {
      "cell_type": "markdown",
      "source": [
        "**Sample Output:**\n",
        "\n",
        "In console and logs/application.log:"
      ],
      "metadata": {
        "id": "dJ4F8_ACk9ae"
      }
    },
    {
      "cell_type": "code",
      "source": [
        "2023-05-15 14:30:45,123 - main - INFO - Application started\n",
        "2023-05-15 14:30:45,124 - calculation - INFO - Starting calculation with x=10, y=2\n",
        "2023-05-15 14:30:45,124 - calculation - INFO - Calculation successful. Result: 5.0\n",
        "2023-05-15 14:30:45,125 - calculation - INFO - Starting calculation with x=8, y=0\n",
        "2023-05-15 14:30:45,125 - calculation - ERROR - Division by zero attempted!\n",
        "Traceback (most recent call last):\n",
        "  File \"logging_example.py\", line 20, in perform_calculation\n",
        "    result = x / y\n",
        "ZeroDivisionError: division by zero\n",
        "2023-05-15 14:30:45,126 - main - INFO - Application finished"
      ],
      "metadata": {
        "id": "wHbBPEUFlA0E"
      },
      "execution_count": null,
      "outputs": []
    },
    {
      "cell_type": "markdown",
      "source": [
        "**Best Practices Demonstrated:**\n",
        "\n",
        "*  Different log levels for different severity messages\n",
        "\n",
        "*  Separate logger instances for different components\n",
        "\n",
        "*  Consistent log format\n",
        "\n",
        "*  Error logging with stack traces\n",
        "\n",
        "*  Log rotation (would need RotatingFileHandler for production)\n",
        "\n",
        "*  Centralized logging configuration"
      ],
      "metadata": {
        "id": "VMKzrLyIlIKx"
      }
    },
    {
      "cell_type": "markdown",
      "source": [
        "**Q.15 Write a Python program that prints the content of a file and handles the case when the file is empty.**\n",
        "\n",
        "*Answer* - Here's a Python program that prints the content of a file while properly handling empty files:\n",
        "\n"
      ],
      "metadata": {
        "id": "X7y5wM1hlXxY"
      }
    },
    {
      "cell_type": "code",
      "source": [
        "def print_file_content(filename):\n",
        "    \"\"\"\n",
        "    Prints the content of a file, handling empty files gracefully.\n",
        "\n",
        "    Args:\n",
        "        filename (str): Path to the file to be read\n",
        "    \"\"\"\n",
        "    try:\n",
        "        with open(filename, 'r') as file:\n",
        "            content = file.read()\n",
        "\n",
        "            if not content.strip():  # Check if content is empty or only whitespace\n",
        "                print(f\"The file '{filename}' is empty.\")\n",
        "            else:\n",
        "                print(f\"Content of '{filename}':\\n\")\n",
        "                print(content)\n",
        "\n",
        "    except FileNotFoundError:\n",
        "        print(f\"Error: The file '{filename}' does not exist.\")\n",
        "    except IOError as e:\n",
        "        print(f\"Error reading file '{filename}': {e}\")\n",
        "\n",
        "# Example usage\n",
        "if __name__ == \"__main__\":\n",
        "    import sys\n",
        "\n",
        "    if len(sys.argv) > 1:\n",
        "        filename = sys.argv[1]\n",
        "    else:\n",
        "        filename = input(\"Enter the filename to read: \")\n",
        "\n",
        "    print_file_content(filename)"
      ],
      "metadata": {
        "id": "wXpvT1Rrl0Re"
      },
      "execution_count": null,
      "outputs": []
    },
    {
      "cell_type": "markdown",
      "source": [
        "**Q.16 Demonstrate how to use memory profiling to check the memory usage of a small program.**\n",
        "\n",
        "*Answer* - **Memory Profiling in Python**\n",
        "\n",
        "Here's a demonstration of how to profile memory usage in a Python program using the memory-profiler package:"
      ],
      "metadata": {
        "id": "O1ATtIKzpZJ4"
      }
    },
    {
      "cell_type": "markdown",
      "source": [
        "1.    **First, install the required package:**\n",
        "\n",
        "\n",
        "\n",
        "\n",
        "\n",
        "\n"
      ],
      "metadata": {
        "id": "MvDXMXD2qU_v"
      }
    },
    {
      "cell_type": "code",
      "source": [
        "pip install memory-profiler"
      ],
      "metadata": {
        "id": "hPAPJnu7q9fF"
      },
      "execution_count": null,
      "outputs": []
    },
    {
      "cell_type": "markdown",
      "source": [
        "**2. Example Program with Memory Profiling**"
      ],
      "metadata": {
        "id": "cPSaVKj2rEmc"
      }
    },
    {
      "cell_type": "code",
      "source": [
        "from memory_profiler import profile\n",
        "import numpy as np\n",
        "\n",
        "@profile\n",
        "def create_large_objects():\n",
        "    \"\"\"Function that creates several memory-intensive objects\"\"\"\n",
        "    # Small list (low memory usage)\n",
        "    small_list = [i for i in range(1000)]  # ~4KB\n",
        "\n",
        "    # Large numpy array (significant memory usage)\n",
        "    large_array = np.random.rand(10000, 10000)  # ~800MB\n",
        "\n",
        "    # Dictionary with many items\n",
        "    big_dict = {i: str(i)*100 for i in range(10000)}  # ~5MB\n",
        "\n",
        "    # Clean up some memory\n",
        "    del large_array\n",
        "\n",
        "    return small_list, big_dict\n",
        "\n",
        "@profile\n",
        "def memory_intensive_operation():\n",
        "    \"\"\"Function that performs memory-intensive operations\"\"\"\n",
        "    result = []\n",
        "\n",
        "    # Memory grows with each iteration\n",
        "    for i in range(10):\n",
        "        chunk = bytearray(1024 * 1024)  # Allocate 1MB\n",
        "        result.append(chunk)\n",
        "        print(f\"Allocated {len(result)} MB\")\n",
        "\n",
        "    return result\n",
        "\n",
        "if __name__ == \"__main__\":\n",
        "    print(\"=== Memory Profiling Demo ===\")\n",
        "\n",
        "    # Profile the object creation function\n",
        "    create_large_objects()\n",
        "\n",
        "    # Profile the memory growing operation\n",
        "    memory_intensive_operation()"
      ],
      "metadata": {
        "id": "hZfwEr-dqv6Q"
      },
      "execution_count": null,
      "outputs": []
    },
    {
      "cell_type": "markdown",
      "source": [
        "3. **How to Run the Profiler**\n",
        "\n",
        "\n",
        "Execute the program with the memory profiler:"
      ],
      "metadata": {
        "id": "01svkFiQq094"
      }
    },
    {
      "cell_type": "code",
      "source": [
        "python -m memory_profiler memory_demo.py"
      ],
      "metadata": {
        "id": "o4h0IWQ_BcB1"
      },
      "execution_count": null,
      "outputs": []
    },
    {
      "cell_type": "markdown",
      "source": [
        "**Sample Output Interpretation:**"
      ],
      "metadata": {
        "id": "8Y5f64sFBduf"
      }
    },
    {
      "cell_type": "code",
      "source": [
        "Line #    Mem usage    Increment  Occurrences   Line Contents\n",
        "=============================================================\n",
        "     3     50.1 MiB     50.1 MiB           1   @profile\n",
        "     4                                         def create_large_objects():\n",
        "     5     50.1 MiB      0.0 MiB           1       small_list = [i for i in range(1000)]\n",
        "     6    850.6 MiB    800.5 MiB           1       large_array = np.random.rand(10000, 10000)\n",
        "     7    855.7 MiB      5.1 MiB           1       big_dict = {i: str(i)*100 for i in range(10000)}\n",
        "     8     55.2 MiB   -800.5 MiB           1       del large_array\n",
        "     9     55.2 MiB      0.0 MiB           1       return small_list, big_dict"
      ],
      "metadata": {
        "id": "PSw88_AUB0su"
      },
      "execution_count": null,
      "outputs": []
    },
    {
      "cell_type": "markdown",
      "source": [
        "**Best Practices for Memory Profiling:**\n",
        "\n",
        "*  Profile sections of code separately to isolate issues\n",
        "\n",
        "*  Focus on large increments in memory usage\n",
        "\n",
        "*  Look for memory that's allocated but not freed\n",
        "\n",
        "*  Compare with expected memory requirements for your data structures\n",
        "\n",
        "*  Run multiple times to account for Python's memory management quirks"
      ],
      "metadata": {
        "id": "fawnCb1IB7Ng"
      }
    },
    {
      "cell_type": "markdown",
      "source": [
        "**Q.17 Write a Python program to create and write a list of numbers to a file, one number per line**\n",
        "\n",
        "*Answer* - **Python Program to Write Numbers to a File (One per Line)**\n",
        "\n",
        "Here's a complete Python program that creates a list of numbers and writes them to a file, with each number on its own line:"
      ],
      "metadata": {
        "id": "xFrAF5S4CRd9"
      }
    },
    {
      "cell_type": "code",
      "source": [
        "def write_numbers_to_file(numbers, filename):\n",
        "    \"\"\"\n",
        "    Writes a list of numbers to a file, one number per line.\n",
        "\n",
        "    Args:\n",
        "        numbers (list): List of numbers to write\n",
        "        filename (str): Name of the file to create/write to\n",
        "    \"\"\"\n",
        "    try:\n",
        "        with open(filename, 'w') as file:\n",
        "            for number in numbers:\n",
        "                file.write(f\"{number}\\n\")  # Write each number with newline\n",
        "        print(f\"Successfully wrote {len(numbers)} numbers to '{filename}'\")\n",
        "    except IOError as e:\n",
        "        print(f\"Error writing to file '{filename}': {e}\")\n",
        "\n",
        "def main():\n",
        "    # Example list of numbers (can be modified)\n",
        "    numbers = [1, 2, 3, 4, 5, 10, 20, 30, 40, 50, 100, 3.14, 2.718]\n",
        "\n",
        "    # Get filename from user (default to 'numbers.txt')\n",
        "    filename = input(\"Enter output filename (default: numbers.txt): \") or \"numbers.txt\"\n",
        "\n",
        "    # Write numbers to file\n",
        "    write_numbers_to_file(numbers, filename)\n",
        "\n",
        "if __name__ == \"__main__\":\n",
        "    main()"
      ],
      "metadata": {
        "id": "jLcZxbOsDYrj"
      },
      "execution_count": null,
      "outputs": []
    },
    {
      "cell_type": "markdown",
      "source": [
        "**Key Features:**\n",
        "\n",
        "*  Flexible Input: Works with both integers and floats\n",
        "\n",
        "*  User Interaction: Asks for filename with default option\n",
        "\n",
        "*  Error Handling: Catches and reports file writing errors\n",
        "\n",
        "*  Clean Formatting: Each number appears on its own line\n",
        "\n",
        "*  Feedback: Reports success/failure to user"
      ],
      "metadata": {
        "id": "ZEscraKeDtwq"
      }
    },
    {
      "cell_type": "markdown",
      "source": [
        "**Sample Output File (numbers.txt):**"
      ],
      "metadata": {
        "id": "D_myKu_AEPDE"
      }
    },
    {
      "cell_type": "code",
      "source": [
        "1\n",
        "2\n",
        "3\n",
        "4\n",
        "5\n",
        "10\n",
        "20\n",
        "30\n",
        "40\n",
        "50\n",
        "100\n",
        "3.14\n",
        "2.718"
      ],
      "metadata": {
        "id": "VLJ_6lnWD9p6"
      },
      "execution_count": null,
      "outputs": []
    },
    {
      "cell_type": "markdown",
      "source": [
        "**Q.18 How would you implement a basic logging setup that logs to a file with rotation after 1MB.**\n",
        "\n",
        "*Answer* - Here's a complete implementation of a logging setup that logs to a file and automatically rotates it when it reaches 1MB:"
      ],
      "metadata": {
        "id": "zc96bchlEeKB"
      }
    },
    {
      "cell_type": "code",
      "source": [
        "import logging\n",
        "from logging.handlers import RotatingFileHandler\n",
        "import os\n",
        "\n",
        "def setup_logging(log_file='app.log', max_size=1, backup_count=5):\n",
        "    \"\"\"\n",
        "    Set up logging with file rotation.\n",
        "\n",
        "    Args:\n",
        "        log_file (str): Path to the log file\n",
        "        max_size (int): Maximum size in MB before rotation\n",
        "        backup_count (int): Number of backup logs to keep\n",
        "    \"\"\"\n",
        "    # Create logs directory if it doesn't exist\n",
        "    os.makedirs(os.path.dirname(log_file), exist_ok=True)\n",
        "\n",
        "    # Set up the logger\n",
        "    logger = logging.getLogger()\n",
        "    logger.setLevel(logging.INFO)  # Set minimum log level\n",
        "\n",
        "    # Create formatter\n",
        "    formatter = logging.Formatter(\n",
        "        '%(asctime)s - %(name)s - %(levelname)s - %(message)s'\n",
        "    )\n",
        "\n",
        "    # Create rotating file handler\n",
        "    rotating_handler = RotatingFileHandler(\n",
        "        filename=log_file,\n",
        "        mode='a',\n",
        "        maxBytes=max_size * 1024 * 1024,  # Convert MB to bytes\n",
        "        backupCount=backup_count,\n",
        "        encoding='utf-8'\n",
        "    )\n",
        "    rotating_handler.setFormatter(formatter)\n",
        "\n",
        "    # Add handler to logger\n",
        "    logger.addHandler(rotating_handler)\n",
        "\n",
        "    return logger\n",
        "\n",
        "def example_usage():\n",
        "    \"\"\"Demonstrate the logging setup with sample messages\"\"\"\n",
        "    logger = logging.getLogger(__name__)\n",
        "\n",
        "    logger.info(\"Application started\")\n",
        "\n",
        "    # Log messages of different levels\n",
        "    logger.debug(\"This is a debug message\")  # Won't show due to INFO level\n",
        "    logger.info(\"This is an info message\")\n",
        "    logger.warning(\"This is a warning message\")\n",
        "    logger.error(\"This is an error message\")\n",
        "\n",
        "    try:\n",
        "        # Simulate an error\n",
        "        1 / 0\n",
        "    except Exception as e:\n",
        "        logger.exception(\"An exception occurred: %s\", str(e))\n",
        "\n",
        "    logger.info(\"Application finished\")\n",
        "\n",
        "if __name__ == \"__main__\":\n",
        "    # Configure logging to rotate after 1MB, keeping 5 backups\n",
        "    setup_logging('logs/app.log', max_size=1, backup_count=5)\n",
        "\n",
        "    # Run example that generates log messages\n",
        "    example_usage()"
      ],
      "metadata": {
        "id": "iSOkQmCkFlIN"
      },
      "execution_count": null,
      "outputs": []
    },
    {
      "cell_type": "markdown",
      "source": [
        "**Key Features:**\n",
        "\n",
        "**File Rotation:**\n",
        "\n",
        "*  Automatically rotates when log reaches 1MB (configurable)\n",
        "\n",
        "*  Maintains 5 backup copies (configurable)\n",
        "\n",
        "*  Backup files are named with suffixes (.1, .2, etc.)\n",
        "\n",
        "*  Log Formatting:\n",
        "\n",
        "*  Includes timestamp, logger name, log level, and message\n",
        "\n",
        "*  Exception logging includes stack traces\n",
        "\n",
        "**Directory Handling:**\n",
        "\n",
        "*  Automatically creates log directory if needed\n",
        "\n",
        "*  Configuration:\n",
        "\n",
        "*  Easy to adjust log level, file size, and backup count\n",
        "\n",
        "*  UTF-8 encoding for proper character handling\n",
        "\n",
        "**How It Works:**\n",
        "\n",
        "*  When app.log reaches 1MB:\n",
        "\n",
        "*  It gets renamed to app.log.1\n",
        "\n",
        "*  A new app.log is created\n",
        "\n",
        "*  Existing backups are rotated (.1 → .2, etc.)\n",
        "\n",
        "*  Only keeps the specified number of backups (5 in this case)\n",
        "\n",
        "**Best Practices:**\n",
        "\n",
        "*  Set appropriate log levels (DEBUG, INFO, WARNING, ERROR, CRITICAL)\n",
        "\n",
        "*  Use logger.exception() for error handling to capture stack traces\n",
        "\n",
        "*  Consider adding a StreamHandler to also log to console if needed\n",
        "\n",
        "*  For production, you might want to add log rotation based on time as well (using TimedRotatingFileHandler)\n"
      ],
      "metadata": {
        "id": "bq8hMurZFtMC"
      }
    },
    {
      "cell_type": "markdown",
      "source": [
        "**Q.19 Write a program that handles both IndexError and KeyError using a try-except block.**\n",
        "\n",
        "*Answer* - **Handling IndexError and KeyError in Python**\n",
        "\n",
        "Here's a program that demonstrates how to handle both IndexError and KeyError using a try-except block:"
      ],
      "metadata": {
        "id": "Pm5A6BThHdae"
      }
    },
    {
      "cell_type": "code",
      "source": [
        "def access_data(data_structure, index_or_key):\n",
        "    \"\"\"\n",
        "    Safely access elements from either a list or dictionary,\n",
        "    handling both IndexError and KeyError.\n",
        "\n",
        "    Args:\n",
        "        data_structure: A list or dictionary to access\n",
        "        index_or_key: The index (for lists) or key (for dictionaries) to access\n",
        "    \"\"\"\n",
        "    try:\n",
        "        value = data_structure[index_or_key]\n",
        "        print(f\"Successfully accessed value: {value}\")\n",
        "        return value\n",
        "    except IndexError:\n",
        "        print(f\"IndexError: Index {index_or_key} is out of range for the list\")\n",
        "    except KeyError:\n",
        "        print(f\"KeyError: Key '{index_or_key}' not found in the dictionary\")\n",
        "    except TypeError:\n",
        "        print(\"TypeError: Invalid data structure type (expected list or dict)\")\n",
        "    except Exception as e:\n",
        "        print(f\"Unexpected error occurred: {type(e).__name__} - {str(e)}\")\n",
        "\n",
        "def main():\n",
        "    # Example list and dictionary\n",
        "    sample_list = [10, 20, 30, 40, 50]\n",
        "    sample_dict = {'a': 1, 'b': 2, 'c': 3}\n",
        "\n",
        "    print(\"=== List Access Examples ===\")\n",
        "    access_data(sample_list, 2)    # Valid index\n",
        "    access_data(sample_list, 5)    # IndexError\n",
        "\n",
        "    print(\"\\n=== Dictionary Access Examples ===\")\n",
        "    access_data(sample_dict, 'b')  # Valid key\n",
        "    access_data(sample_dict, 'x')  # KeyError\n",
        "\n",
        "    print(\"\\n=== Edge Cases ===\")\n",
        "    access_data(sample_list, 'a')  # TypeError (wrong index type for list)\n",
        "    access_data(\"hello\", 1)        # TypeError (string is not list/dict)\n",
        "\n",
        "if __name__ == \"__main__\":\n",
        "    main()"
      ],
      "metadata": {
        "id": "O-i_gG25IZc5"
      },
      "execution_count": null,
      "outputs": []
    },
    {
      "cell_type": "markdown",
      "source": [
        "**Output:**"
      ],
      "metadata": {
        "id": "Ih3dGU_nIuhu"
      }
    },
    {
      "cell_type": "code",
      "source": [
        "=== List Access Examples ===\n",
        "Successfully accessed value: 30\n",
        "IndexError: Index 5 is out of range for the list\n",
        "\n",
        "=== Dictionary Access Examples ===\n",
        "Successfully accessed value: 2\n",
        "KeyError: Key 'x' not found in the dictionary\n",
        "\n",
        "=== Edge Cases ===\n",
        "TypeError: Invalid data structure type (expected list or dict)\n",
        "TypeError: Invalid data structure type (expected list or dict)"
      ],
      "metadata": {
        "id": "rbyOunvAI1Pm"
      },
      "execution_count": null,
      "outputs": []
    },
    {
      "cell_type": "markdown",
      "source": [
        "**Q.20  How would you open a file and read its contents using a context manager in Python?**\n",
        "\n",
        "*Answer* - In Python, you can open a file and read its contents using a context manager with the with statement. This ensures that the file is properly closed after its suite finishes, even if an error is raised. Here’s an example of how to do this:"
      ],
      "metadata": {
        "id": "v8EEarhSJBar"
      }
    },
    {
      "cell_type": "code",
      "source": [
        "with open('filename.txt', 'r') as file:\n",
        "    contents = file.read()\n",
        "    print(contents)"
      ],
      "metadata": {
        "id": "_qlqa-49JuaX"
      },
      "execution_count": null,
      "outputs": []
    },
    {
      "cell_type": "markdown",
      "source": [
        "**In this example:**\n",
        "\n",
        "*  open('filename.txt', 'r') opens the file named filename.txt in read mode ('r').\n",
        "*  The with statement creates a context in which the file is accessible as file.\n",
        "file.read() reads the entire contents of the file.\n",
        "*  After the block of code under the with statement is executed, the file is automatically closed.\n",
        "\n",
        "\n",
        "**You can also read the file line by line using a loop:**"
      ],
      "metadata": {
        "id": "cPID_F8wJ05s"
      }
    },
    {
      "cell_type": "code",
      "source": [
        "with open('filename.txt', 'r') as file:\n",
        "    for line in file:\n",
        "        print(line.strip())  # .strip() removes any leading/trailing whitespace\n"
      ],
      "metadata": {
        "id": "QRX8fWFuKR70"
      },
      "execution_count": null,
      "outputs": []
    },
    {
      "cell_type": "markdown",
      "source": [
        "**Q,21 Write a Python program that reads a file and prints the number of occurrences of a specific word.**\n",
        "\n",
        "*Answer* - Here’s a simple Python program that reads a file and counts the number of occurrences of a specific word. You can specify the filename and the word you want to count."
      ],
      "metadata": {
        "id": "xt6IiTaDKYn1"
      }
    },
    {
      "cell_type": "code",
      "source": [
        "def count_word_occurrences(filename, target_word):\n",
        "    try:\n",
        "        with open(filename, 'r') as file:\n",
        "            contents = file.read()\n",
        "            # Convert the contents to lowercase to make the search case-insensitive\n",
        "            contents = contents.lower()\n",
        "            # Split the contents into words\n",
        "            words = contents.split()\n",
        "            # Count the occurrences of the target word\n",
        "            count = words.count(target_word.lower())\n",
        "            return count\n",
        "    except FileNotFoundError:\n",
        "        print(f\"The file '{filename}' was not found.\")\n",
        "        return 0\n",
        "\n",
        "# Example usage\n",
        "if __name__ == \"__main__\":\n",
        "    filename = 'example.txt'  # Replace with your file name\n",
        "    target_word = 'yourword'   # Replace with the word you want to count\n",
        "    occurrences = count_word_occurrences(filename, target_word)\n",
        "    print(f\"The word '{target_word}' occurs {occurrences} times in the file '{filename}'.\")\n"
      ],
      "metadata": {
        "id": "v3xdnsSELDKk"
      },
      "execution_count": null,
      "outputs": []
    },
    {
      "cell_type": "markdown",
      "source": [
        "**Explanation:**\n",
        "*  **Function Definition**: The function count_word_occurrences takes two parameters: filename (the name of the file to read) and target_word (the word to count).\n",
        "*  **File Handling**: It uses a context manager to open the file safely.\n",
        "Reading and Processing: The contents of the file are read and converted to lowercase to ensure the search is case-insensitive. The contents are then split into a list of words.\n",
        "*  **Counting**: The count method is used to count how many times the target_word appears in the list of words.\n",
        "*  **Error Handling**: If the file is not found, it catches the FileNotFoundError and prints an error message.\n",
        "*  **Example Usage**: The program can be run directly, and you can specify the filename and the word you want to count.\n",
        "\n",
        "\n",
        "\n",
        "*Make sure to replace 'example.txt' and 'yourword' with the actual filename and word you want to search for.*"
      ],
      "metadata": {
        "id": "nZHLdtVkLMAx"
      }
    },
    {
      "cell_type": "markdown",
      "source": [
        "**Q.22   How can you check if a file is empty before attempting to read its contents?**\n",
        "\n",
        "*Answer* - You can check if a file is empty in Python by using the os module to get the file size before attempting to read its contents. Here’s how you can do it:\n",
        "\n"
      ],
      "metadata": {
        "id": "uzfNU88HLvxg"
      }
    },
    {
      "cell_type": "code",
      "source": [
        "import os\n",
        "\n",
        "def is_file_empty(filename):\n",
        "    return os.path.getsize(filename) == 0\n",
        "\n",
        "def read_file_if_not_empty(filename):\n",
        "    if is_file_empty(filename):\n",
        "        print(f\"The file '{filename}' is empty.\")\n",
        "    else:\n",
        "        with open(filename, 'r') as file:\n",
        "            contents = file.read()\n",
        "            print(contents)\n",
        "\n",
        "# Example usage\n",
        "if __name__ == \"__main__\":\n",
        "    filename = 'example.txt'  # Replace with your file name\n",
        "    read_file_if_not_empty(filename)\n"
      ],
      "metadata": {
        "id": "AZwzetzPMYvV"
      },
      "execution_count": null,
      "outputs": []
    },
    {
      "cell_type": "markdown",
      "source": [
        "**Explanation:**\n",
        "\n",
        "1.   Importing the os Module: The os module provides a way to interact with the\n",
        "operating system, including file operations.\n",
        "\n",
        "2.  Function is_file_empty: This function checks if the file size is zero using os.path.getsize(filename). If the size is zero, it returns True, indicating the file is empty.\n",
        "\n",
        "3.  Function read_file_if_not_empty: This function first checks if the file is empty. If it is, it prints a message. If not, it opens the file and reads its contents.\n",
        "4.  Example Usage: The program can be run directly, and you can specify the filename to check and read.\n",
        "\n",
        "*This approach ensures that you do not attempt to read an empty file, which could lead to unexpected behavior or errors.*"
      ],
      "metadata": {
        "id": "QwUqCrjDMdSu"
      }
    },
    {
      "cell_type": "markdown",
      "source": [
        "**Q.23 Write a Python program that writes to a log file when an error occurs during file handling.**\n",
        "\n",
        "*Answer* - Here’s a Python program that demonstrates how to handle file operations and log errors to a log file when exceptions occur. The program attempts to read from a specified file and logs any errors that arise during the process."
      ],
      "metadata": {
        "id": "MivxTupHM_Kf"
      }
    },
    {
      "cell_type": "code",
      "source": [
        "import os\n",
        "import logging\n",
        "\n",
        "# Configure logging\n",
        "logging.basicConfig(filename='error_log.txt', level=logging.ERROR,\n",
        "                    format='%(asctime)s:%(levelname)s:%(message)s')\n",
        "\n",
        "def read_file(filename):\n",
        "    try:\n",
        "        with open(filename, 'r') as file:\n",
        "            contents = file.read()\n",
        "            print(contents)\n",
        "    except FileNotFoundError:\n",
        "        error_message = f\"The file '{filename}' was not found.\"\n",
        "        print(error_message)\n",
        "        logging.error(error_message)\n",
        "    except IOError as e:\n",
        "        error_message = f\"An IOError occurred: {str(e)}\"\n",
        "        print(error_message)\n",
        "        logging.error(error_message)\n",
        "\n",
        "# Example usage\n",
        "if __name__ == \"__main__\":\n",
        "    filename = 'example.txt'  # Replace with your file name\n",
        "    read_file(filename)\n"
      ],
      "metadata": {
        "id": "fDCfVCVqN1Jx"
      },
      "execution_count": null,
      "outputs": []
    },
    {
      "cell_type": "markdown",
      "source": [
        "**Explanation:**\n",
        "\n",
        "1.  Importing Modules: The program imports the os module for file operations and the logging module for logging errors.\n",
        "\n",
        "2.  Configuring Logging: The logging.basicConfig function sets up the logging configuration. It specifies the log file name (error_log.txt), the logging level (ERROR), and the format of the log messages.\n",
        "\n",
        "3.  Function read_file: This function attempts to open and read the specified file.\n",
        "If the file is not found, it logs a FileNotFoundError and prints an error message.\n",
        "If an IOError occurs (e.g., issues with reading the file), it logs the error and prints an appropriate message.\n",
        "Example Usage: The program can be run directly, and you can specify the filename to read.\n",
        "4.  Log File:\n",
        "The errors will be logged in error_log.txt, which will contain timestamps and error messages, making it easier to track issues that occur during file handling.\n",
        "\n",
        "*Make sure to replace 'example.txt' with the actual filename you want to read. If the file does not exist or an error occurs, the details will be logged in error_log.txt.*"
      ],
      "metadata": {
        "id": "GOXv45x4N5oN"
      }
    }
  ]
}